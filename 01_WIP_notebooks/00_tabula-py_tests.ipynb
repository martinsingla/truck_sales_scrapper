{
 "cells": [
  {
   "cell_type": "code",
   "execution_count": 234,
   "id": "f9a518ed",
   "metadata": {},
   "outputs": [],
   "source": [
    "import pandas as pd\n",
    "import numpy as np\n",
    "import os\n",
    "import tabula\n",
    "import datetime as dt"
   ]
  },
  {
   "cell_type": "code",
   "execution_count": 235,
   "id": "eaec9330",
   "metadata": {},
   "outputs": [],
   "source": [
    "## Buscar datos de tablas reporte ANPACT mensual\n",
    "\n",
    "## verificar que el reporte se siga publicando en la misma liga\n",
    "## verificar que las tablas en el reporte guarden exactamente el mismo formato!\n",
    "\n",
    "url= 'https://www.anpact.com.mx/documentos/anpact/BOLETIN-ESTADISTICO-ANPACT.pdf' \n",
    "dfs= tabula.read_pdf(url, pages='1')"
   ]
  },
  {
   "cell_type": "code",
   "execution_count": 236,
   "id": "f0efcf9a",
   "metadata": {},
   "outputs": [
    {
     "name": "stdout",
     "output_type": "stream",
     "text": [
      "-----\n",
      "Último registro en base de datos igual al de reporte de mes en curso.\n",
      "No se agregan nuevos datos\n"
     ]
    }
   ],
   "source": [
    "## Historico ANPACT\n",
    "#Buscar el archivo más reciente (última actualización!)\n",
    "\n",
    "timekey= max([os.path.getctime('01_HISTORICOS/' + i) for i in os.listdir('01_HISTORICOS/')])\n",
    "index= [os.path.getctime('01_HISTORICOS/' + i) for i in os.listdir('01_HISTORICOS/')].index(timekey)\n",
    "dir= os.listdir('01_HISTORICOS/')[index]\n",
    "\n",
    "#Abrir histórico!\n",
    "hist= pd.read_csv('01_HISTORICOS/'+dir)\n",
    "hist['Fecha']= pd.to_datetime(hist['Fecha'])\n",
    "\n",
    "#Identificar Año del último reporte publicado\n",
    "y= dfs[0].iloc[0,0]\n",
    "\n",
    "#Identificar Mes del año del último reporte publicado\n",
    "meses= {'Enero' : 1,'Febrero': 2,'Marzo': 3,'Abril': 4,'Mayo': 5,'Junio': 6,\n",
    "        'Julio': 7,'Agosto': 8,'Septiembre': 9, 'Octubre': 10,'Noviembre': 11,'Diciembre': 12}\n",
    "m= meses[list(meses.keys())[[mes in dfs[0].columns[0] for mes in list(meses.keys())].index(True)]]\n",
    "\n",
    "#Fecha del ultimo reporte\n",
    "fecha= pd.to_datetime(str(y) + '-' + str(m))\n",
    "\n",
    "#### Chequear que la última fecha del dataframe NO \n",
    "ultimo_registro = hist.iloc[-1, 0]\n",
    "\n",
    "if (fecha != ultimo_registro) & (ultimo_registro == fecha - pd.DateOffset(months=1)):\n",
    "    \n",
    "    print('-----')\n",
    "    print('Última fecha de registro correcta')\n",
    "    print('Proceder a agregar nuevos registros...')\n",
    "\n",
    "    #Datos camiones menudeo\n",
    "    clases_camiones = ['Fecha', 'truck4_5_ANPACT', 'truck6', 'truck7', 'truck8', 'truckTractor']\n",
    "\n",
    "\n",
    "    ventas_camiones_mes_año_actual = np.append([fecha, \n",
    "                                                dfs[2].iloc[13:15, 0].astype(int).sum()], #suma de clase 4 y 5\n",
    "                                               dfs[2].iloc[15:19, 0]) #otras clases\n",
    "\n",
    "    menudeo_camiones= pd.DataFrame(np.array([ventas_camiones_mes_año_actual]), columns= clases_camiones)\n",
    "\n",
    "    #Datos buses menudeo\n",
    "    clases_buses = ['Fecha', 'bus5_6', 'bus7', 'bus8', 'busLongDist']\n",
    "    ventas_buses_mes_año_actual = np.append([fecha], dfs[2].iloc[23:27, 0])\n",
    "\n",
    "    menudeo_buses= pd.DataFrame(np.array([ventas_buses_mes_año_actual]), columns= clases_buses)\n",
    "\n",
    "    #Datos camiones y buses\n",
    "    menudeo = pd.merge(menudeo_camiones, menudeo_buses, on= 'Fecha')\n",
    "    menudeo\n",
    "\n",
    "    #Nuevo dataframe con última actualización\n",
    "    new= hist.append(menudeo).reset_index(drop=True)\n",
    "    \n",
    "    # Guardar nuevo dataframe con fecha\n",
    "    now= str(dt.datetime.now()).replace('-', '').replace(' ', '').replace(':', '')[:-7]\n",
    "    new.to_csv('01_HISTORICOS/FROST_ventas_historicas_camiones_'+ now +'.csv', index=False)\n",
    "    \n",
    "elif (fecha == ultimo_registro):\n",
    "    print('-----')\n",
    "    print('Último registro en base de datos igual al de reporte de mes en curso.')\n",
    "    print('No se agregan nuevos datos')\n",
    "    \n",
    "elif (fecha != ultimo_registro) & (ultimo_registro != fecha - pd.DateOffset(months=1)):\n",
    "    print('-----')\n",
    "    print('Es probable que no haya registrado ventas del mes anterior!! :O')"
   ]
  }
 ],
 "metadata": {
  "kernelspec": {
   "display_name": "Python 3 (ipykernel)",
   "language": "python",
   "name": "python3"
  },
  "language_info": {
   "codemirror_mode": {
    "name": "ipython",
    "version": 3
   },
   "file_extension": ".py",
   "mimetype": "text/x-python",
   "name": "python",
   "nbconvert_exporter": "python",
   "pygments_lexer": "ipython3",
   "version": "3.9.7"
  }
 },
 "nbformat": 4,
 "nbformat_minor": 5
}
