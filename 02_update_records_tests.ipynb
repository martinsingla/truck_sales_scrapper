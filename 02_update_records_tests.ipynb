{
 "cells": [
  {
   "cell_type": "code",
   "execution_count": 1,
   "id": "fc11838f",
   "metadata": {},
   "outputs": [],
   "source": [
    "from anpact_scrapper import update_ANPACTdb_last_records"
   ]
  },
  {
   "cell_type": "code",
   "execution_count": 2,
   "id": "86c76ef3",
   "metadata": {},
   "outputs": [
    {
     "name": "stdout",
     "output_type": "stream",
     "text": [
      "Most recent ANPACT data already recorded in database! :)\n",
      "----\n"
     ]
    }
   ],
   "source": [
    "update_ANPACTdb_last_records()"
   ]
  }
 ],
 "metadata": {
  "kernelspec": {
   "display_name": "Python 3 (ipykernel)",
   "language": "python",
   "name": "python3"
  },
  "language_info": {
   "codemirror_mode": {
    "name": "ipython",
    "version": 3
   },
   "file_extension": ".py",
   "mimetype": "text/x-python",
   "name": "python",
   "nbconvert_exporter": "python",
   "pygments_lexer": "ipython3",
   "version": "3.9.7"
  }
 },
 "nbformat": 4,
 "nbformat_minor": 5
}
