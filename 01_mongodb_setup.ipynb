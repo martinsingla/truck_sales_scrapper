{
 "cells": [
  {
   "cell_type": "code",
   "execution_count": 6,
   "id": "58c674c1",
   "metadata": {},
   "outputs": [],
   "source": [
    "import pandas as pd\n",
    "import pymongo\n",
    "import datetime as dt\n",
    "\n",
    "from anpact_scrapper import get_last_ANPACT_records"
   ]
  },
  {
   "cell_type": "code",
   "execution_count": 7,
   "id": "d6488d28",
   "metadata": {},
   "outputs": [],
   "source": [
    "#Import historic data\n",
    "d= pd.read_csv('01_HISTORICOS/FROST_ventas_historicas_camiones_20220304153453.csv')\n",
    "d['truckTractor'] = [float(i) for i in (d['truckTractor'].str.replace(',', ''))]"
   ]
  },
  {
   "cell_type": "code",
   "execution_count": 8,
   "id": "978512ff",
   "metadata": {},
   "outputs": [],
   "source": [
    "#Set connection with MongoDB\n",
    "conn = 'mongodb://localhost:27017'\n",
    "client = pymongo.MongoClient(conn)\n",
    "\n",
    "# Define the 'mexican_truckDB' database in Mongo\n",
    "db = client.mexican_truckDB"
   ]
  },
  {
   "cell_type": "code",
   "execution_count": 46,
   "id": "15a2a65b",
   "metadata": {},
   "outputs": [],
   "source": [
    "#Insertar base de datos historica:\n",
    "for i in range(0, len(d)):\n",
    "    \n",
    "    db.sales.insert_one({\n",
    "        'date': d['Fecha'][i],\n",
    "        'sales': {\n",
    "            'truck4_5_ANPACT': d['truck4_5_ANPACT'][i],\n",
    "            'truck6': d['truck6'][i],\n",
    "            'truck7': d['truck7'][i],\n",
    "            'truckTractor': d['truckTractor'][i],\n",
    "            'bus5_6': d['bus5_6'][i],\n",
    "            'bus7': d['bus7'][i],\n",
    "            'bus8': d['bus8'][i],\n",
    "            'busLongDist': d['busLongDist'][i]\n",
    "        },\n",
    "        'date_added' : str(dt.datetime.now()).replace('-', '').replace(' ', '').replace(':', '')[:-7]\n",
    "        })    "
   ]
  },
  {
   "cell_type": "code",
   "execution_count": 24,
   "id": "19fcca0d",
   "metadata": {},
   "outputs": [],
   "source": [
    "#s= db.sales.find()\n",
    "#for record in s:\n",
    "#    print(record)"
   ]
  },
  {
   "cell_type": "code",
   "execution_count": 36,
   "id": "7f130bad",
   "metadata": {},
   "outputs": [
    {
     "name": "stdout",
     "output_type": "stream",
     "text": [
      "Most recent ANPACT data already recorded in database! :)\n",
      "----\n"
     ]
    }
   ],
   "source": [
    "#Scrap latest ANPACT reports\n",
    "new_record = get_last_ANPACT_records()\n",
    "\n",
    "#Get last data point from the databse\n",
    "last_record = db.sales.find_one(sort=[( '_id', pymongo.DESCENDING )])\n",
    "last_record = pd.to_datetime(last_record['date'])\n",
    "\n",
    "#Check if there is new data to be appended to database\n",
    "if last_record == new_record['Fecha'][0]:\n",
    "    print('Most recent ANPACT data already recorded in database! :)')\n",
    "    print('----')\n",
    "    \n",
    "elif last_record == new_record['Fecha'][0] - pd.DateOffset(month=1):\n",
    "    print('New ANPACT report published. Appending new data to database! :)')\n",
    "    print('----')\n",
    "    \n",
    "    db.sales.insert_one({\n",
    "        'date': new_record['Fecha'][0],\n",
    "        'sales': {\n",
    "            'truck4_5_ANPACT': new_record['truck4_5_ANPACT'][0],\n",
    "            'truck6': new_record['truck6'][0],\n",
    "            'truck7': new_record['truck7'][0],\n",
    "            'truckTractor': new_record['truckTractor'][0],\n",
    "            'bus5_6': new_record['bus5_6'][0],\n",
    "            'bus7': new_record['bus7'][0],\n",
    "            'bus8': new_record['bus8'][0],\n",
    "            'busLongDist': new_record['busLongDist'][0]\n",
    "        },\n",
    "        'date_added' : str(dt.datetime.now()).replace('-', '').replace(' ', '').replace(':', '')[:-7]\n",
    "        })    \n",
    "    \n",
    "elif last_record != new_record['Fecha'][0] - pd.DateOffset(month=1):\n",
    "    print('New ANPACT report published, but last record does not match new record.')\n",
    "    print('You may have skipped scrapping last month´s report... :O')\n",
    "    print('----')"
   ]
  },
  {
   "cell_type": "code",
   "execution_count": null,
   "id": "5b0a27aa",
   "metadata": {},
   "outputs": [],
   "source": []
  }
 ],
 "metadata": {
  "kernelspec": {
   "display_name": "Python 3 (ipykernel)",
   "language": "python",
   "name": "python3"
  },
  "language_info": {
   "codemirror_mode": {
    "name": "ipython",
    "version": 3
   },
   "file_extension": ".py",
   "mimetype": "text/x-python",
   "name": "python",
   "nbconvert_exporter": "python",
   "pygments_lexer": "ipython3",
   "version": "3.9.7"
  }
 },
 "nbformat": 4,
 "nbformat_minor": 5
}
